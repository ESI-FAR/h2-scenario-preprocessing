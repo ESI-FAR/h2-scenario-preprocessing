{
 "cells": [
  {
   "cell_type": "code",
   "execution_count": null,
   "id": "b114d04b-8f89-46e2-80b8-c80f5d338c2e",
   "metadata": {},
   "outputs": [],
   "source": [
    "from pathlib import Path\n",
    "\n",
    "import ipywidgets as widgets\n",
    "import xarray as xr"
   ]
  },
  {
   "cell_type": "code",
   "execution_count": null,
   "id": "fafb5557-2639-4a82-be4e-7b11967e4b21",
   "metadata": {},
   "outputs": [],
   "source": [
    "DATA = Path(\"../data/\")"
   ]
  },
  {
   "cell_type": "code",
   "execution_count": null,
   "id": "2b812181-9fad-4fd8-8114-7418e3972f8a",
   "metadata": {},
   "outputs": [],
   "source": [
    "ds = xr.load_dataset(f'{DATA}/data-Laurens-HyChain_WP1.nc')\n",
    "ds"
   ]
  },
  {
   "cell_type": "code",
   "execution_count": null,
   "id": "e6929b90-59fc-4dd6-abe0-572ea96d578f",
   "metadata": {},
   "outputs": [],
   "source": [
    "widget_map = {\n",
    "    int: widgets.IntSlider,\n",
    "    float: widgets.FloatSlider,\n",
    "    str: widgets.Dropdown,\n",
    "}"
   ]
  },
  {
   "cell_type": "code",
   "execution_count": null,
   "id": "512ad2ef-eb15-4e26-b649-7c3feb8b35da",
   "metadata": {},
   "outputs": [],
   "source": []
  },
  {
   "cell_type": "code",
   "execution_count": null,
   "id": "24d009c9-70a8-45ca-abd2-ce9adcd154fc",
   "metadata": {},
   "outputs": [],
   "source": [
    "selection = {}\n",
    "for c in ds.coords:\n",
    "    if c != 'id':\n",
    "        selection[c] = widgets.Dropdown(\n",
    "            options=ds.coords[c].values.tolist(),\n",
    "            description=c,\n",
    "            disabled=False,\n",
    "        )\n",
    "for s in selection.values():\n",
    "    display(s)"
   ]
  },
  {
   "cell_type": "code",
   "execution_count": null,
   "id": "fba88d3a-1034-4d7a-8aa4-4a677514e4b6",
   "metadata": {},
   "outputs": [],
   "source": [
    "type(selection[\"component[-]\"].value)"
   ]
  },
  {
   "cell_type": "code",
   "execution_count": null,
   "id": "7c1c22e5-4d42-4616-97e3-da342a6d28c4",
   "metadata": {},
   "outputs": [],
   "source": [
    "ds.sel(**{k: selection[k].value for k in selection})  # distance=50, technology=\"ALK\", ...."
   ]
  },
  {
   "cell_type": "code",
   "execution_count": null,
   "id": "f124c223-738e-4b01-889b-66d7b9f2c6c2",
   "metadata": {},
   "outputs": [],
   "source": []
  }
 ],
 "metadata": {
  "kernelspec": {
   "display_name": "Python 3 (ipykernel)",
   "language": "python",
   "name": "python3"
  },
  "language_info": {
   "codemirror_mode": {
    "name": "ipython",
    "version": 3
   },
   "file_extension": ".py",
   "mimetype": "text/x-python",
   "name": "python",
   "nbconvert_exporter": "python",
   "pygments_lexer": "ipython3",
   "version": "3.12.7"
  }
 },
 "nbformat": 4,
 "nbformat_minor": 5
}
